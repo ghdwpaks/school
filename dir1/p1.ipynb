{
 "cells": [
  {
   "cell_type": "code",
   "execution_count": 5,
   "id": "listed-cycle",
   "metadata": {},
   "outputs": [
    {
     "data": {
      "text/plain": [
       "False"
      ]
     },
     "execution_count": 5,
     "metadata": {},
     "output_type": "execute_result"
    }
   ],
   "source": [
    "True\n",
    "False"
   ]
  },
  {
   "cell_type": "code",
   "execution_count": 6,
   "id": "adopted-sessions",
   "metadata": {},
   "outputs": [
    {
     "data": {
      "text/plain": [
       "{1, 2, 3, 4}"
      ]
     },
     "execution_count": 6,
     "metadata": {},
     "output_type": "execute_result"
    }
   ],
   "source": [
    "s1 = set([1,2,3])\n",
    "s1.add(4)\n",
    "s1"
   ]
  },
  {
   "cell_type": "code",
   "execution_count": 7,
   "id": "desirable-plenty",
   "metadata": {},
   "outputs": [
    {
     "data": {
      "text/plain": [
       "{1, 2, 3, 4, 5, 6, 7, 8}"
      ]
     },
     "execution_count": 7,
     "metadata": {},
     "output_type": "execute_result"
    }
   ],
   "source": [
    "s1 = set([1,2,3])\n",
    "s1.update([3,4,5,6,7,8])\n",
    "s1"
   ]
  },
  {
   "cell_type": "code",
   "execution_count": 8,
   "id": "statutory-cholesterol",
   "metadata": {},
   "outputs": [
    {
     "data": {
      "text/plain": [
       "{1, 3}"
      ]
     },
     "execution_count": 8,
     "metadata": {},
     "output_type": "execute_result"
    }
   ],
   "source": [
    "s1 = set([1,2,3])\n",
    "s1.remove(2)\n",
    "s1\n"
   ]
  },
  {
   "cell_type": "code",
   "execution_count": null,
   "id": "strange-driving",
   "metadata": {},
   "outputs": [],
   "source": [
    "1 < 2"
   ]
  },
  {
   "cell_type": "code",
   "execution_count": 9,
   "id": "affecting-wednesday",
   "metadata": {},
   "outputs": [
    {
     "data": {
      "text/plain": [
       "str"
      ]
     },
     "execution_count": 9,
     "metadata": {},
     "output_type": "execute_result"
    }
   ],
   "source": [
    "a=  1\n",
    "b = True\n",
    "c = False\n",
    "d = \"hansei\"\n",
    "type(d)"
   ]
  },
  {
   "cell_type": "code",
   "execution_count": 10,
   "id": "boring-dressing",
   "metadata": {},
   "outputs": [
    {
     "name": "stdout",
     "output_type": "stream",
     "text": [
      "8\n",
      "7\n",
      "6\n",
      "5\n",
      "4\n",
      "3\n",
      "2\n",
      "1\n"
     ]
    }
   ],
   "source": [
    "a=[1,2,3,4,5,6,7,8]\n",
    "while a :\n",
    "    print(a.pop())"
   ]
  },
  {
   "cell_type": "code",
   "execution_count": 11,
   "id": "neutral-boost",
   "metadata": {},
   "outputs": [
    {
     "data": {
      "text/plain": [
       "True"
      ]
     },
     "execution_count": 11,
     "metadata": {},
     "output_type": "execute_result"
    }
   ],
   "source": [
    "bool(9)"
   ]
  },
  {
   "cell_type": "code",
   "execution_count": 13,
   "id": "proof-contract",
   "metadata": {},
   "outputs": [
    {
     "name": "stdout",
     "output_type": "stream",
     "text": [
      "100109352\n",
      "100109352\n"
     ]
    },
    {
     "data": {
      "text/plain": [
       "True"
      ]
     },
     "execution_count": 13,
     "metadata": {},
     "output_type": "execute_result"
    }
   ],
   "source": [
    "a = [11,22,33,44,55]\n",
    "print(id(a))\n",
    "b=  a\n",
    "print(id(b))\n",
    "a is b\n",
    "del a[0]\n",
    "print(a)\n",
    "print(b)"
   ]
  },
  {
   "cell_type": "code",
   "execution_count": 16,
   "id": "conservative-bangladesh",
   "metadata": {},
   "outputs": [
    {
     "name": "stdout",
     "output_type": "stream",
     "text": [
      "95242376\n",
      "95242376\n",
      "100081736\n"
     ]
    }
   ],
   "source": [
    "from copy import copy as c\n",
    "a = [11,22,33,44,55]\n",
    "print(id(a))\n",
    "b = c(a)\n",
    "print(id(a))\n",
    "print(id(b))\n",
    "del a[0]\n",
    "print(a)\n",
    "print(b)"
   ]
  },
  {
   "cell_type": "code",
   "execution_count": 18,
   "id": "rental-journalist",
   "metadata": {},
   "outputs": [
    {
     "name": "stdout",
     "output_type": "stream",
     "text": [
      "박서완\n",
      "['김민중', '류정원', '유태견', '박규민']\n"
     ]
    }
   ],
   "source": [
    "our_team = ['권민서',\n",
    "'김규민',\n",
    "'김대욱',\n",
    "'김무겸',\n",
    "'김민',\n",
    "'김민중',\n",
    "'류정원',\n",
    "'유태견',\n",
    "'박규민',\n",
    "'박서완',\n",
    "'박지민',\n",
    "'양철승',\n",
    "'양준석',\n",
    "'장규식',\n",
    "'장승호',\n",
    "'조성재',\n",
    "'최민기',\n",
    "'최예빈',\n",
    "'홍제만']\n",
    "print(our_team[9])\n",
    "print(our_team[5:9])\n"
   ]
  },
  {
   "cell_type": "code",
   "execution_count": 22,
   "id": "neither-plant",
   "metadata": {},
   "outputs": [
    {
     "name": "stdout",
     "output_type": "stream",
     "text": [
      "심화포렌식반\n",
      "포렌식반\n"
     ]
    }
   ],
   "source": [
    "our_team = ['권민서',\n",
    "'김규민',\n",
    "'김대욱',\n",
    "'김무겸',\n",
    "'김민',\n",
    "'김민중',\n",
    "'류정원',\n",
    "'유태견',\n",
    "'박규민',\n",
    "'박서완',\n",
    "'박지민',\n",
    "'양철승',\n",
    "'양준석',\n",
    "'장규식',\n",
    "'장승호',\n",
    "'조성재',\n",
    "'최민기',\n",
    "'최예빈',\n",
    "'홍제만']\n",
    "club = {\n",
    "'권민서' : \"포렌식반\",\n",
    "'김규민' : \"포렌식반\",\n",
    "'김대욱' : \"포렌식반\",\n",
    "'김무겸' : \"심화포렌식반\",\n",
    "'김민' : \"심화포렌식반\",\n",
    "'김민중' : \"심화포렌식반\",\n",
    "'류정원' : \"디지털포렌식반\",\n",
    "'유태견' : \"디지털포렌식반\",\n",
    "'박규민' : \"디지털포렌식반\",\n",
    "'박서완' : \"디지털포렌식반\",\n",
    "'박지민' : \"디지털포렌식반\",\n",
    "'양철승' : \"자퇴\",\n",
    "'양준석' : \"심화포렌식반\",\n",
    "'장규식' : \"심화포렌식반\",\n",
    "'장승호' : \"심화포렌식반\",\n",
    "'조성재' : \"심화포렌식반\",\n",
    "'최민기' : \"포렌식반\",\n",
    "'최예빈' : \"포렌식반\",\n",
    "'홍제만' : \"자퇴\"\n",
    "}\n",
    "print(club['김민'])\n",
    "print(club[our_team[1]])"
   ]
  }
 ],
 "metadata": {
  "kernelspec": {
   "display_name": "Python 3",
   "language": "python",
   "name": "python3"
  },
  "language_info": {
   "codemirror_mode": {
    "name": "ipython",
    "version": 3
   },
   "file_extension": ".py",
   "mimetype": "text/x-python",
   "name": "python",
   "nbconvert_exporter": "python",
   "pygments_lexer": "ipython3",
   "version": "3.8.1"
  }
 },
 "nbformat": 4,
 "nbformat_minor": 5
}
